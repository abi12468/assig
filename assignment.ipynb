{
 "cells": [
  {
   "cell_type": "markdown",
   "id": "29943b55",
   "metadata": {},
   "source": [
    "# My Jupyter Notebook on IBM Watson Studio"
   ]
  },
  {
   "cell_type": "markdown",
   "id": "adba9a1f",
   "metadata": {},
   "source": [
    " <b>ABIYA JOSE</b>      \n",
    " <b>DATA SCIENTIST</b>"
   ]
  },
  {
   "cell_type": "markdown",
   "id": "b15e577d",
   "metadata": {},
   "source": [
    "*I'm interested in data analysis because it deals with drawing insights from data.*\n",
    "*It's has application in many domains especially particle physics.*"
   ]
  },
  {
   "cell_type": "markdown",
   "id": "2271ee2e",
   "metadata": {},
   "source": [
    "### this code add two variables"
   ]
  },
  {
   "cell_type": "code",
   "execution_count": 1,
   "id": "7e762fed",
   "metadata": {},
   "outputs": [
    {
     "name": "stdout",
     "output_type": "stream",
     "text": [
      "12\n"
     ]
    }
   ],
   "source": [
    "x=5\n",
    "y=7\n",
    "z= x+y\n",
    "print(z)"
   ]
  },
  {
   "cell_type": "markdown",
   "id": "4902418e",
   "metadata": {},
   "source": [
    "* python\n",
    "* SQL\n",
    "* R\n",
    "\n",
    "> This is a blockquote\n",
    "\n",
    "---\n",
    "___\n",
    "***\n",
    "\n",
    "1. chocolate\n",
    "2. cakes\n"
   ]
  },
  {
   "cell_type": "code",
   "execution_count": null,
   "id": "173517ee",
   "metadata": {},
   "outputs": [],
   "source": []
  }
 ],
 "metadata": {
  "kernelspec": {
   "display_name": "Python 3 (ipykernel)",
   "language": "python",
   "name": "python3"
  },
  "language_info": {
   "codemirror_mode": {
    "name": "ipython",
    "version": 3
   },
   "file_extension": ".py",
   "mimetype": "text/x-python",
   "name": "python",
   "nbconvert_exporter": "python",
   "pygments_lexer": "ipython3",
   "version": "3.9.12"
  }
 },
 "nbformat": 4,
 "nbformat_minor": 5
}
